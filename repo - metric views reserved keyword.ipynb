{
 "cells": [
  {
   "cell_type": "code",
   "execution_count": 0,
   "metadata": {
    "application/vnd.databricks.v1+cell": {
     "cellMetadata": {
      "byteLimit": 2048000,
      "rowLimit": 10000
     },
     "inputWidgets": {},
     "nuid": "9d075110-8973-4783-8fb1-d0db9aea8f2f",
     "showTitle": false,
     "tableResultSettingsMap": {},
     "title": ""
    }
   },
   "outputs": [],
   "source": [
    "dbutils.widgets.text(\"catalog_name\", \"\", \"Catalog Name\")\n",
    "dbutils.widgets.text(\"schema_name\", \"\", \"Schema Name\")"
   ]
  },
  {
   "cell_type": "code",
   "execution_count": 0,
   "metadata": {
    "application/vnd.databricks.v1+cell": {
     "cellMetadata": {
      "byteLimit": 2048000,
      "implicitDf": true,
      "rowLimit": 10000
     },
     "inputWidgets": {},
     "nuid": "15cb860a-53b1-4caa-8d60-5663fdf2b520",
     "showTitle": false,
     "tableResultSettingsMap": {},
     "title": ""
    }
   },
   "outputs": [],
   "source": [
    "%sql\n",
    "USE CATALOG IDENTIFIER(:catalog_name);\n",
    "USE SCHEMA IDENTIFIER(:schema_name);\n",
    "\n",
    "--create a fact table\n",
    "create or replace table fact (sk int, meas int);\n",
    "insert into fact \n",
    "    values  (1, 1)\n",
    "    ,       (1, 1)\n",
    "    ,       (1, 1)\n",
    "    ,       (2, 1)\n",
    "    ,       (2, 1)\n",
    "    ,       (2, 1)\n",
    "    ,       (2, 1)\n",
    "    ,       (3, 1)\n",
    "    ,       (3, 1)\n",
    "    ,       (3, 1)\n",
    "    ,       (3, 1)\n",
    "    ,       (3, 1)\n",
    "    ,       (3, 1);\n",
    "\n",
    "\n",
    "--create a dim table with a column called \"source_1\" this wont cause issues\n",
    "create or replace table dim (sk int, source_1 string, att string);\n",
    "\n",
    "insert into dim\n",
    "    values  (1, 'dummy', 'cat')\n",
    "    ,       (2, 'dummy', 'dog')\n",
    "    ,       (3, 'dummy', 'rat')\n",
    "    ,       (4, 'dummy', 'hat');\n",
    "\n",
    "--create a dim table with a column called \"source\" this will cause issues\n",
    "create or replace table dim_error (sk int, source string, att string);\n",
    "insert into dim_error \n",
    "    values  (1, 'dummy', 'cat')\n",
    "    ,       (2, 'dummy', 'dog')\n",
    "    ,       (3, 'dummy', 'rat')\n",
    "    ,       (4, 'dummy', 'hat');"
   ]
  },
  {
   "cell_type": "markdown",
   "metadata": {
    "application/vnd.databricks.v1+cell": {
     "cellMetadata": {},
     "inputWidgets": {},
     "nuid": "c19bf018-95e7-4bd1-b361-63e550025b10",
     "showTitle": false,
     "tableResultSettingsMap": {},
     "title": ""
    }
   },
   "source": [
    "## this works"
   ]
  },
  {
   "cell_type": "code",
   "execution_count": 0,
   "metadata": {
    "application/vnd.databricks.v1+cell": {
     "cellMetadata": {
      "byteLimit": 2048000,
      "implicitDf": true,
      "rowLimit": 10000
     },
     "inputWidgets": {},
     "nuid": "47fe8fc8-a46a-41cd-afc6-9f47ce347e6d",
     "showTitle": false,
     "tableResultSettingsMap": {},
     "title": ""
    }
   },
   "outputs": [],
   "source": [
    "%sql\n",
    "CREATE OR REPLACE VIEW source_issue_repro\n",
    "  WITH METRICS\n",
    "  LANGUAGE YAML\n",
    "  AS $$\n",
    "  version: 0.1\n",
    "\n",
    "  source: jack_demos.energy.fact\n",
    "\n",
    "  joins:\n",
    "    - name: dim2\n",
    "      source: jack_demos.energy.dim\n",
    "      on: source.sk = dim2.sk\n",
    "\n",
    "  dimensions:\n",
    "    - name: att\n",
    "      expr: dim2.att\n",
    "    \n",
    "  measures:\n",
    "    - name: Sum of Measure\n",
    "      expr: SUM(meas)\n",
    "  $$;\n",
    "\n",
    "\n"
   ]
  },
  {
   "cell_type": "markdown",
   "metadata": {
    "application/vnd.databricks.v1+cell": {
     "cellMetadata": {},
     "inputWidgets": {},
     "nuid": "fad0ef77-0e07-47a8-a26f-e26c4762821e",
     "showTitle": false,
     "tableResultSettingsMap": {},
     "title": ""
    }
   },
   "source": [
    "## this doesnt work"
   ]
  },
  {
   "cell_type": "code",
   "execution_count": 0,
   "metadata": {
    "application/vnd.databricks.v1+cell": {
     "cellMetadata": {
      "byteLimit": 2048000,
      "implicitDf": true,
      "rowLimit": 10000
     },
     "inputWidgets": {},
     "nuid": "806f639c-211e-4bb1-8ceb-27da3d284148",
     "showTitle": false,
     "tableResultSettingsMap": {},
     "title": ""
    }
   },
   "outputs": [],
   "source": [
    "%sql\n",
    "CREATE OR REPLACE VIEW source_issue_repro\n",
    "  WITH METRICS\n",
    "  LANGUAGE YAML\n",
    "  AS $$\n",
    "  version: 0.1\n",
    "\n",
    "  source: jack_demos.energy.fact\n",
    "\n",
    "  joins:\n",
    "    - name: dim2\n",
    "      source: jack_demos.energy.dim_error\n",
    "      on: source.sk = dim2.sk\n",
    "\n",
    "  dimensions:\n",
    "    - name: att\n",
    "      expr: dim2.att\n",
    "    \n",
    "  measures:\n",
    "    - name: Sum of Measure\n",
    "      expr: SUM(meas)\n",
    "  $$;\n",
    "\n",
    "\n"
   ]
  }
 ],
 "metadata": {
  "application/vnd.databricks.v1+notebook": {
   "computePreferences": null,
   "dashboards": [],
   "environmentMetadata": {
    "base_environment": "dbe_c75093c8-0895-475e-8c1b-6acacfe3368b",
    "environment_version": "2"
   },
   "inputWidgetPreferences": null,
   "language": "python",
   "notebookMetadata": {
    "mostRecentlyExecutedCommandWithImplicitDF": {
     "commandId": 3397375242676593,
     "dataframes": [
      "_sqldf"
     ]
    },
    "pythonIndentUnit": 2
   },
   "notebookName": "repo - metric views reserved keyword",
   "widgets": {
    "catalog_name": {
     "currentValue": "jack_demos",
     "nuid": "d20b1c0f-bcd7-4646-bc27-8356143eaf8e",
     "typedWidgetInfo": {
      "autoCreated": false,
      "defaultValue": "",
      "label": "Catalog Name",
      "name": "catalog_name",
      "options": {
       "widgetDisplayType": "Text",
       "validationRegex": null
      },
      "parameterDataType": "String"
     },
     "widgetInfo": {
      "widgetType": "text",
      "defaultValue": "",
      "label": "Catalog Name",
      "name": "catalog_name",
      "options": {
       "widgetType": "text",
       "autoCreated": null,
       "validationRegex": null
      }
     }
    },
    "schema_name": {
     "currentValue": "energy",
     "nuid": "97bd151f-c53c-4477-9531-5271ac8da032",
     "typedWidgetInfo": {
      "autoCreated": false,
      "defaultValue": "",
      "label": "Schema Name",
      "name": "schema_name",
      "options": {
       "widgetDisplayType": "Text",
       "validationRegex": null
      },
      "parameterDataType": "String"
     },
     "widgetInfo": {
      "widgetType": "text",
      "defaultValue": "",
      "label": "Schema Name",
      "name": "schema_name",
      "options": {
       "widgetType": "text",
       "autoCreated": null,
       "validationRegex": null
      }
     }
    }
   }
  },
  "language_info": {
   "name": "python"
  }
 },
 "nbformat": 4,
 "nbformat_minor": 0
}
