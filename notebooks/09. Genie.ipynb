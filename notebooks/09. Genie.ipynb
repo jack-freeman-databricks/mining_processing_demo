{
 "cells": [
  {
   "cell_type": "markdown",
   "metadata": {
    "application/vnd.databricks.v1+cell": {
     "cellMetadata": {},
     "inputWidgets": {},
     "nuid": "c69db18f-bc38-4adf-8e84-70692ae5ca4e",
     "showTitle": false,
     "tableResultSettingsMap": {},
     "title": ""
    }
   },
   "source": [
    "# 9. What is a Genie Space? \n",
    "\n",
    "Genie Spaces is a Databricks feature that allows business teams to interact with their data using natural language. It uses generative AI tailored to your organization's terminology and data, with the ability to monitor and refine its performance through user feedback."
   ]
  },
  {
   "cell_type": "markdown",
   "metadata": {
    "application/vnd.databricks.v1+cell": {
     "cellMetadata": {},
     "inputWidgets": {},
     "nuid": "7d944b28-7df3-420c-8795-5238d71ffa8e",
     "showTitle": false,
     "tableResultSettingsMap": {},
     "title": ""
    }
   },
   "source": [
    "## 9.1 What data does this Genie space contain?\n",
    "\n",
    "This Genie space contains the iron ore processing plant data we ingested and transformed. By ensuring the metadata was well described and the primary and foreign keys were added to allow the LLM to connect the tables, we're able to interrogate the data in Natural language "
   ]
  },
  {
   "cell_type": "markdown",
   "metadata": {
    "application/vnd.databricks.v1+cell": {
     "cellMetadata": {},
     "inputWidgets": {},
     "nuid": "c801291c-9b0b-4155-99cd-60be91f04b1a",
     "showTitle": false,
     "tableResultSettingsMap": {},
     "title": ""
    }
   },
   "source": [
    "## 9.2 How do Genie spaces work?\n",
    "\n",
    "By providing the space with tables and their metadata, the LLM powering genie spaces can build SQL queries or graph templates which attempt to answer the question posed. Because of this the LLM never receives any of the data, it simply builds a query which is then run against the tables enabling the results to be returned to the user\n",
    "\n",
    "[Link to Genie Space](https://e2-demo-field-eng.cloud.databricks.com/genie/rooms/01f03008dd8310ceb8dcd7f11463f053?o=1444828305810485)\n",
    "\n",
    "![](/Workspace/Shared/iron_ore_precessing_demo/demo_setup/images/Genie_Space.png)"
   ]
  }
 ],
 "metadata": {
  "application/vnd.databricks.v1+notebook": {
   "computePreferences": null,
   "dashboards": [],
   "environmentMetadata": {
    "base_environment": "",
    "environment_version": "2"
   },
   "inputWidgetPreferences": null,
   "language": "python",
   "notebookMetadata": {
    "pythonIndentUnit": 2
   },
   "notebookName": "09. Genie",
   "widgets": {}
  },
  "language_info": {
   "name": "python"
  }
 },
 "nbformat": 4,
 "nbformat_minor": 0
}
