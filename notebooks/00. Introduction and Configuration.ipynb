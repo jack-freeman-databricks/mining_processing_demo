{
 "cells": [
  {
   "cell_type": "markdown",
   "metadata": {
    "application/vnd.databricks.v1+cell": {
     "cellMetadata": {
      "byteLimit": 2048000,
      "rowLimit": 10000
     },
     "inputWidgets": {},
     "nuid": "98bb4b65-3a18-4aed-9b73-8c8c0a3af996",
     "showTitle": true,
     "tableResultSettingsMap": {},
     "title": ""
    }
   },
   "source": [
    "# Predicting & Optimising Iron Ore Concentrations \n",
    "\n",
    "This demo is a simplified, real-world-inspired example designed to showcase how Databricks enables end-to-end model development and deployment — from data ingestion and exploration to model training, optimisation, and operationalisation — all within a unified platform.\n",
    "\n",
    "In the context of iron ore processing, controlling iron (Fe) and silica (SiO₂) concentrations is critical for producing high-quality feedstock for steelmaking. One commonly used method in mineral processing is froth flotation, which removes silica from iron-bearing minerals like magnetite and hematite.\n",
    "\n",
    "## How Flotation Works in Iron Ore Processing\n",
    "\n",
    "Froth flotation is a common method used to separate silica (SiO₂) from iron-bearing minerals like hematite or magnetite. The goal is to reduce the silica content in the iron ore concentrate, improving the ore's quality for steel production.\n",
    "\n",
    "<div style=\"text-align: center;\">\n",
    "  <img src=\"../demo_setup/images/FlotationProcess.jpg\" width=\"400px\"/> \n",
    "<p><em>Figure 1: The process of froth flotation. Source: https://www.sciencedirect.com/topics/earth-and-planetary-sciences/flotation-froth</em></p>\n",
    "</div>\n",
    "\n",
    "### 📌 Process Steps\n",
    "\n",
    "#### Grinding:\n",
    "\n",
    "- Iron ore is ground into fine particles to liberate iron minerals from gangue (waste rock), primarily silica.\n",
    "\n",
    "#### Conditioning:\n",
    "\n",
    "- Reagents are added to the slurry (water + ground ore):\n",
    "  - Collectors (e.g., ether amines) make silica hydrophobic.\n",
    "  - Depressants (e.g., starch) prevent iron minerals from floating.\n",
    "- Air Injection & Frothing:\n",
    "  - Air bubbles are introduced into the slurry.\n",
    "  - Hydrophobic silica particles attach to the bubbles and float to the surface.\n",
    "  - Hydrophilic iron particles stay in the slurry and are collected as concentrate.\n",
    "\n",
    "- Separation:\n",
    "  - Froth containing silica is skimmed off.\n",
    "  - The remaining slurry contains the upgraded iron concentrate with reduced silica.\n",
    "\n",
    "### ✅ Silica Concentration Quality Criteria\n",
    "The acceptable level of silica (SiO₂) in iron ore concentrate depends on its end-use (usually for steelmaking) and customer requirements.  Higher silica affects the slag volume, increases energy consumption, and decreases efficiency in the furnace."
   ]
  },
  {
   "cell_type": "markdown",
   "metadata": {
    "application/vnd.databricks.v1+cell": {
     "cellMetadata": {
      "byteLimit": 2048000,
      "rowLimit": 10000
     },
     "inputWidgets": {},
     "nuid": "5dbdd5bf-625a-4384-bf33-0eeaafcc4d5f",
     "showTitle": false,
     "tableResultSettingsMap": {},
     "title": ""
    }
   },
   "source": [
    "## Demo - MLOps Databricks Capabilities\n",
    "\n",
    "In this demo, we use historical plant [data](https://www.kaggle.com/code/aditya100/quality-prediction-in-iron-ore) (e.g., pH, reagent dosage, pulp density, air flow rate) to train machine learning models that predict Fe and SiO₂ concentrations. We also run an optimisation routines, for example, to determine the ideal setpoints that maximise Fe concentration while keeping SiO₂ within specification.\n",
    "\n",
    "As we go through this end-to-end workflow, we will highlight Databricks capabilities such as collaborative notebooks, feature engineering, experiment tracking, model registry, and integration with ML tools — illustrating how data engineers, data scientists, and ML engineers can collaborate to deliver production-ready solutions faster.\n",
    "\n",
    "<div style=\"text-align: center;\">\n",
    "  <img src=\"../demo_setup/images/intro_sections.png\" width=\"1300px\"/> \n",
    "</div>\n"
   ]
  },
  {
   "cell_type": "markdown",
   "metadata": {
    "application/vnd.databricks.v1+cell": {
     "cellMetadata": {
      "byteLimit": 2048000,
      "rowLimit": 10000
     },
     "inputWidgets": {},
     "nuid": "9cffe8db-dad0-4e25-8448-050973b3c7c3",
     "showTitle": false,
     "tableResultSettingsMap": {},
     "title": ""
    }
   },
   "source": [
    "##Initial Install\n",
    "To get started run the cell below to deploy some starting resources which we will leverage later on.\n",
    "\n",
    "`note` to configure where we will deploy resources, please modify the file called \"config\" at located in the parent directory.\n",
    "\n",
    "`note` this process will take up to 10 minutes to finish"
   ]
  },
  {
   "cell_type": "code",
   "execution_count": 0,
   "metadata": {
    "application/vnd.databricks.v1+cell": {
     "cellMetadata": {
      "byteLimit": 2048000,
      "rowLimit": 10000
     },
     "inputWidgets": {},
     "nuid": "22fdf008-ec4a-4596-a5c9-1c69be1c5a9a",
     "showTitle": false,
     "tableResultSettingsMap": {},
     "title": ""
    }
   },
   "outputs": [],
   "source": [
    "%run ../demo_setup/00.Initial_demo_setup"
   ]
  }
 ],
 "metadata": {
  "application/vnd.databricks.v1+notebook": {
   "computePreferences": null,
   "dashboards": [],
   "environmentMetadata": {
    "base_environment": "",
    "environment_version": "2"
   },
   "inputWidgetPreferences": null,
   "language": "python",
   "notebookMetadata": {
    "mostRecentlyExecutedCommandWithImplicitDF": {
     "commandId": -1,
     "dataframes": [
      "_sqldf"
     ]
    },
    "pythonIndentUnit": 2
   },
   "notebookName": "00. Introduction and Configuration",
   "widgets": {}
  },
  "language_info": {
   "name": "python"
  }
 },
 "nbformat": 4,
 "nbformat_minor": 0
}
