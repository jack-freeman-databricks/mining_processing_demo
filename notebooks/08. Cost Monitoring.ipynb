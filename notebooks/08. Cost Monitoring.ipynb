{
 "cells": [
  {
   "cell_type": "markdown",
   "metadata": {
    "application/vnd.databricks.v1+cell": {
     "cellMetadata": {},
     "inputWidgets": {},
     "nuid": "36f1a165-d1c2-4848-9e86-ca4562aaf2f0",
     "showTitle": false,
     "tableResultSettingsMap": {},
     "title": ""
    }
   },
   "source": [
    "# 8. Cost Management Dashboards\n",
    "\n",
    "Costs incurred are automatically recorded into the System.billing tables and can easily be dashboarded using the Databricks in built dashboarding tool, AI/BI"
   ]
  },
  {
   "cell_type": "markdown",
   "metadata": {
    "application/vnd.databricks.v1+cell": {
     "cellMetadata": {},
     "inputWidgets": {},
     "nuid": "5f83c560-7d30-4fe9-9d4b-ec9312d0282f",
     "showTitle": false,
     "tableResultSettingsMap": {},
     "title": ""
    }
   },
   "source": [
    "## 8.1 Tagging\n",
    "\n",
    "By tagging the resources of this demo we are able to filter the dashboard to show the costs of this demo"
   ]
  },
  {
   "cell_type": "markdown",
   "metadata": {
    "application/vnd.databricks.v1+cell": {
     "cellMetadata": {},
     "inputWidgets": {},
     "nuid": "b40327fc-d578-4cad-a190-6333ff38e0a0",
     "showTitle": false,
     "tableResultSettingsMap": {},
     "title": ""
    }
   },
   "source": [
    "## 8.2 Costs by product\n",
    "\n",
    "All costs incurred can also be split by product enabling you to see what each product in the project is costing\n",
    "\n",
    "https://e2-demo-field-eng.cloud.databricks.com/dashboardsv3/01f03fcca3071e66a9244925d8bb6e15/published/pages/5879f9e7?o=1444828305810485\n",
    "\n",
    "![](/Workspace/Shared/iron_ore_precessing_demo/demo_setup/images/usage_dashboard.png)"
   ]
  }
 ],
 "metadata": {
  "application/vnd.databricks.v1+notebook": {
   "computePreferences": null,
   "dashboards": [],
   "environmentMetadata": {
    "base_environment": "",
    "environment_version": "2"
   },
   "inputWidgetPreferences": null,
   "language": "python",
   "notebookMetadata": {
    "pythonIndentUnit": 2
   },
   "notebookName": "08. Cost Monitoring",
   "widgets": {}
  },
  "language_info": {
   "name": "python"
  }
 },
 "nbformat": 4,
 "nbformat_minor": 0
}
