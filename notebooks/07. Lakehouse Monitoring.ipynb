{
 "cells": [
  {
   "cell_type": "code",
   "execution_count": 0,
   "metadata": {
    "application/vnd.databricks.v1+cell": {
     "cellMetadata": {
      "byteLimit": 2048000,
      "rowLimit": 10000
     },
     "collapsed": true,
     "inputWidgets": {},
     "nuid": "c1ccc552-d35d-43dd-abea-873f0d8ce8a2",
     "showTitle": false,
     "tableResultSettingsMap": {},
     "title": ""
    }
   },
   "outputs": [],
   "source": [
    "%run ../00.set_variables"
   ]
  },
  {
   "cell_type": "markdown",
   "metadata": {
    "application/vnd.databricks.v1+cell": {
     "cellMetadata": {},
     "inputWidgets": {},
     "nuid": "b1eac19f-fda5-4e2c-b802-91c64c62ff8f",
     "showTitle": false,
     "tableResultSettingsMap": {},
     "title": ""
    }
   },
   "source": [
    "# 7. Lakehouse Monitoring\n",
    "\n",
    "This section showcases Databricks Lakehouse Monitoring, which provides unified visibility across data pipelines, models, and infrastructure—helping teams quickly detect issues, ensure data quality, and maintain reliable AI and analytics workflows."
   ]
  },
  {
   "cell_type": "markdown",
   "metadata": {
    "application/vnd.databricks.v1+cell": {
     "cellMetadata": {},
     "inputWidgets": {},
     "nuid": "8ef54c5f-acad-4e72-a72a-cbf7e2331494",
     "showTitle": false,
     "tableResultSettingsMap": {},
     "title": ""
    }
   },
   "source": [
    "![](../demo_setup/images/DataQuality.png)"
   ]
  },
  {
   "cell_type": "markdown",
   "metadata": {
    "application/vnd.databricks.v1+cell": {
     "cellMetadata": {},
     "inputWidgets": {},
     "nuid": "12a56ca8-7e0b-40f9-ac02-fb8423f11c7b",
     "showTitle": false,
     "tableResultSettingsMap": {},
     "title": ""
    }
   },
   "source": [
    "## 7.1 🛡️ Data Quality and Anomaly Detection\n",
    "We can leverage automated Data Quality and Anomaly detection to periodically scan our tables and generate alerts and incidents as Data Quality changes over time. It can monitor for freshness and values out of range etc.\n",
    "\n",
    "[Individual Table Quality Monitoring](https://e2-demo-field-eng.cloud.databricks.com/explore/data/mining_iron_ore_processing_demo_catalog/iop_schema/fe_model_endpoint_payload?o=1444828305810485&activeTab=quality)"
   ]
  },
  {
   "cell_type": "markdown",
   "metadata": {
    "application/vnd.databricks.v1+cell": {
     "cellMetadata": {},
     "inputWidgets": {},
     "nuid": "791aff22-2352-4b30-a89f-44d6f9cee3e3",
     "showTitle": false,
     "tableResultSettingsMap": {},
     "title": ""
    }
   },
   "source": [
    "## 7.2 Anomaly Detection Dashboard\n",
    "\n",
    "[Data Quality Dashboard](https://e2-demo-field-eng.cloud.databricks.com/dashboardsv3/01f0433235a31c38bd1e5b1be0d92a51/published/pages/quality-overview?o=1444828305810485&f_quality-overview%7Equality-overview-logging-table-name=mining_iron_ore_processing_demo_catalog.iop_schema._quality_monitoring_summary&f_table-quality-details%7Etable-quality-details-logging-table-name=mining_iron_ore_processing_demo_catalog.iop_schema._quality_monitoring_summary)\n",
    "\n",
    "![](https://docs.databricks.com/aws/en/assets/images/anomaly-detection-dashboard-quality-overview-schema-summary-d8ef475ba3191b575cf43d1583491fc8.png)"
   ]
  },
  {
   "cell_type": "code",
   "execution_count": 0,
   "metadata": {
    "application/vnd.databricks.v1+cell": {
     "cellMetadata": {
      "byteLimit": 2048000,
      "rowLimit": 10000
     },
     "inputWidgets": {},
     "nuid": "d09612a9-d04f-4cc8-8012-add13426243d",
     "showTitle": false,
     "tableResultSettingsMap": {},
     "title": ""
    },
    "jupyter": {
     "source_hidden": true
    }
   },
   "outputs": [],
   "source": [
    "host_url = dbutils.notebook.entry_point.getDbutils().notebook().getContext().apiUrl().get()\n",
    "#https://e2-demo-field-eng.cloud.databricks.com/explore/data/jack_demos?o=1444828305810485&activeTab=details\n",
    "displayHTML(f\"<b style='font-size:24px;'>Monitoring Settings URL:</b> <a href='{host_url}/explore/data/{catalog_name}/{schema_name}?activeTab=details' target='_blank' style='font-size:24px;'>'{host_url}/explore/data/{catalog_name}/{schema_name}?activeTab=details'</a>\")"
   ]
  }
 ],
 "metadata": {
  "application/vnd.databricks.v1+notebook": {
   "computePreferences": null,
   "dashboards": [],
   "environmentMetadata": {
    "base_environment": "",
    "environment_version": "2"
   },
   "inputWidgetPreferences": null,
   "language": "python",
   "notebookMetadata": {
    "pythonIndentUnit": 2
   },
   "notebookName": "07. Lakehouse Monitoring",
   "widgets": {}
  },
  "language_info": {
   "name": "python"
  }
 },
 "nbformat": 4,
 "nbformat_minor": 0
}
