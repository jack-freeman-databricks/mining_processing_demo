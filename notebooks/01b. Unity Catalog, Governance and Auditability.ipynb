{
 "cells": [
  {
   "cell_type": "code",
   "execution_count": 0,
   "metadata": {
    "application/vnd.databricks.v1+cell": {
     "cellMetadata": {
      "byteLimit": 2048000,
      "rowLimit": 10000
     },
     "inputWidgets": {},
     "nuid": "908dc094-cb66-4a64-8850-5d79824bc3a5",
     "showTitle": false,
     "tableResultSettingsMap": {},
     "title": ""
    }
   },
   "outputs": [],
   "source": [
    "%run ../00.set_variables"
   ]
  },
  {
   "cell_type": "markdown",
   "metadata": {
    "application/vnd.databricks.v1+cell": {
     "cellMetadata": {
      "byteLimit": 2048000,
      "rowLimit": 10000
     },
     "inputWidgets": {},
     "nuid": "99cd4541-f510-4e86-8bbb-b83345b06d28",
     "showTitle": false,
     "tableResultSettingsMap": {},
     "title": ""
    }
   },
   "source": [
    "## 1.2 Unity Catalog"
   ]
  },
  {
   "cell_type": "markdown",
   "metadata": {
    "application/vnd.databricks.v1+cell": {
     "cellMetadata": {
      "byteLimit": 2048000,
      "rowLimit": 10000
     },
     "inputWidgets": {},
     "nuid": "dd3a9b22-fe80-40a4-b289-90227c5625ff",
     "showTitle": false,
     "tableResultSettingsMap": {},
     "title": ""
    }
   },
   "source": [
    "\n",
    "Unity Catalog provides a unified governance layer in Databricks to centrally manage data access, lineage, and security across all data assets — including tables, files, models, and notebooks — with fine-grained, role-based controls.\n",
    "\n",
    "<div style=\"text-align: center;\">\n",
    "  <img src=\"../demo_setup/images/Unity_Catalog.png\" width=\"800px\"/> \n",
    "</div>"
   ]
  },
  {
   "cell_type": "markdown",
   "metadata": {
    "application/vnd.databricks.v1+cell": {
     "cellMetadata": {
      "byteLimit": 2048000,
      "rowLimit": 10000
     },
     "inputWidgets": {},
     "nuid": "cfe08d86-6804-437b-9b4f-30e34f4f018f",
     "showTitle": false,
     "tableResultSettingsMap": {},
     "title": ""
    }
   },
   "source": [
    "## 1.3. 🔐 Now Lets Secure the Datasets with Unity Catalog\n",
    "\n",
    "In complex environments, ensuring robust data governance and security across the entire data platform is critical. Traditional approaches — like using SQL GRANT statements on individual tables — fall short. Governance must extend beyond just tables to include files, models, dashboards, features, and queries.\n",
    "\n",
    "To both minimise risk and enable data-driven innovation, the team must:\n",
    "\n",
    "- 🔄 Unify all data assets — including tables, files, ML models, features, dashboards, and queries — under a single governance layer\n",
    "- 👥 Onboard and collaborate across multiple teams, from operations to data science\n",
    "- 🌐 Securely share selected data and insights with external partners or organisations, while maintaining fine-grained access controls\n",
    "\n",
    "Unity Catalog enables this unified governance approach across the platform — critical in regulated and high-value environments.\n",
    "\n",
    "<style>\n",
    ".box{\n",
    "  box-shadow: 20px -20px #CCC; height:300px; box-shadow:  0 0 10px  rgba(0,0,0,0.3); padding: 5px 10px 0px 10px;}\n",
    ".badge {\n",
    "  clear: left; float: left; height: 30px; width: 30px;  display: table-cell; vertical-align: middle; border-radius: 50%; background: #fcba33ff; text-align: center; color: white; margin-right: 10px}\n",
    ".badge_b { \n",
    "  height: 35px}\n",
    "</style>\n",
    "<link href='https://fonts.googleapis.com/css?family=DM Sans' rel='stylesheet'>\n",
    "<div style=\"padding: 20px; font-family: 'DM Sans'; color: #1b5162\">\n",
    "  <div style=\"width:200px; float: left; text-align: center\">\n",
    "    <div class=\"box\" style=\"\">\n",
    "      <div style=\"font-size: 26px;\">\n",
    "        <strong>Team A</strong>\n",
    "      </div>\n",
    "      <div style=\"font-size: 13px\">\n",
    "        <img src=\"https://github.com/databricks-demos/dbdemos-resources/raw/main/images/da.png\" style=\"\" width=\"60px\"> <br/>\n",
    "        Data Analysts<br/>\n",
    "        <img src=\"https://github.com/databricks-demos/dbdemos-resources/raw/main/images/ds.png\" style=\"\" width=\"60px\"> <br/>\n",
    "        Data Scientists<br/>\n",
    "        <img src=\"https://github.com/databricks-demos/dbdemos-resources/raw/main/images/de.png\" style=\"\" width=\"60px\"> <br/>\n",
    "        Data Engineers\n",
    "      </div>\n",
    "    </div>\n",
    "    <div class=\"box\" style=\"height: 80px; margin: 20px 0px 50px 0px\">\n",
    "      <div style=\"font-size: 26px;\">\n",
    "        <strong>Team B</strong>\n",
    "      </div>\n",
    "      <div style=\"font-size: 13px\">...</div>\n",
    "    </div>\n",
    "  </div>\n",
    "  <div style=\"float: left; width: 400px; padding: 0px 20px 0px 20px\">\n",
    "    <div style=\"margin: 20px 0px 0px 20px\">Permissions on queries, dashboards</div>\n",
    "    <img src=\"https://github.com/databricks-demos/dbdemos-resources/raw/main/images/horizontal-arrow-dash.png\" style=\"width: 400px\">\n",
    "    <div style=\"margin: 20px 0px 0px 20px\">Permissions on tables, columns, rows</div>\n",
    "    <img src=\"https://github.com/databricks-demos/dbdemos-resources/raw/main/images/horizontal-arrow-dash.png\" style=\"width: 400px\">\n",
    "    <div style=\"margin: 20px 0px 0px 20px\">Permissions on features, ML models, endpoints, notebooks…</div>\n",
    "    <img src=\"https://github.com/databricks-demos/dbdemos-resources/raw/main/images/horizontal-arrow-dash.png\" style=\"width: 400px\">\n",
    "    <div style=\"margin: 20px 0px 0px 20px\">Permissions on files, jobs</div>\n",
    "    <img src=\"https://github.com/databricks-demos/dbdemos-resources/raw/main/images/horizontal-arrow-dash.png\" style=\"width: 400px\">\n",
    "  </div>\n",
    "  \n",
    "  <div class=\"box\" style=\"width:550px; float: left\">\n",
    "    <img src=\"https://github.com/databricks-demos/dbdemos-resources/raw/main/images/gov.png\" style=\"float: left; margin-right: 10px;\" width=\"80px\"> \n",
    "    <div style=\"float: left; font-size: 26px; margin-top: 0px; line-height: 17px;\"><strong>Emily</strong> <br />Governance and Security</div>\n",
    "    <div style=\"font-size: 18px; clear: left; padding-top: 10px\">\n",
    "      <ul style=\"line-height: 2px;\">\n",
    "        <li>Central catalog - all data assets</li>\n",
    "        <li>Data exploration & discovery to unlock new use-cases</li>\n",
    "        <li>Permissions cross-teams</li>\n",
    "        <li>Reduce risk with audit logs</li>\n",
    "        <li>Measure impact with lineage</li>\n",
    "      </ul>\n",
    "      + Share data with external organization (Delta Sharing)\n",
    "    </div>\n",
    "  </div>\n",
    "</div>\n",
    "\n",
    "<!-- Collect usage data (view). Remove it to disable collection or disable tracker during installation. View README for more details.  -->\n",
    "<img width=\"1px\" src=\"https://ppxrzfxige.execute-api.us-west-2.amazonaws.com/v1/analytics?category=lakehouse&org_id=1444828305810485&notebook=%2F02-Data-governance%2F02-UC-data-governance-security-churn&demo_name=lakehouse-retail-c360&event=VIEW&path=%2F_dbdemos%2Flakehouse%2Flakehouse-retail-c360%2F02-Data-governance%2F02-UC-data-governance-security-churn&version=1\">"
   ]
  },
  {
   "cell_type": "markdown",
   "metadata": {
    "application/vnd.databricks.v1+cell": {
     "cellMetadata": {
      "byteLimit": 2048000,
      "rowLimit": 10000
     },
     "inputWidgets": {},
     "nuid": "580123f2-8161-4e08-86b9-99b174d54fbe",
     "showTitle": false,
     "tableResultSettingsMap": {},
     "title": ""
    }
   },
   "source": [
    "### Exploring our Iron Ore Processing Catalog\n",
    "\n",
    "<img src=\"https://github.com/QuentinAmbard/databricks-demo/raw/main/product_demos/uc/uc-base-1.png\" style=\"float: right\" width=\"800px\"/> \n",
    "\n",
    "🧭 Exploring Our Iron Ore Processing Catalog\n",
    "\n",
    "Now that we’ve processed the data, let’s take a look at how it’s organised in Unity Catalog — the unified governance layer for all data assets in Databricks.\n",
    "\n",
    "Unity Catalog follows a three-tiered structure:\n",
    "\n",
    "- 🗂️ CATALOG – The top-level container, typically used to separate environments or domains (e.g., iron_ore_demo)\n",
    "- 📁 SCHEMA (or DATABASE) – A logical grouping of related tables within a catalog (e.g., raw, silver, gold)\n",
    "- 📊 TABLE – The actual datasets used in queries and pipelines (e.g., flotation_data, lab_results)\n",
    "\n",
    "You can manage all of this directly with SQL — for example:\n",
    "\n",
    "`CREATE CATALOG IF NOT EXISTS my_catalog ...`\n",
    "\n",
    "This structure makes it easy to organise, secure, and discover datasets across the processing lifecycle."
   ]
  },
  {
   "cell_type": "code",
   "execution_count": 0,
   "metadata": {
    "application/vnd.databricks.v1+cell": {
     "cellMetadata": {
      "byteLimit": 2048000,
      "implicitDf": true,
      "rowLimit": 10000
     },
     "collapsed": true,
     "inputWidgets": {},
     "nuid": "36288c4d-1484-4cde-8c5b-ee9b7e61b12c",
     "showTitle": false,
     "tableResultSettingsMap": {},
     "title": ""
    }
   },
   "outputs": [],
   "source": [
    "spark.sql(f\"USE CATALOG {catalog_name}\")\n",
    "spark.sql(f\"USE SCHEMA {schema_name}\")"
   ]
  },
  {
   "cell_type": "markdown",
   "metadata": {
    "application/vnd.databricks.v1+cell": {
     "cellMetadata": {
      "byteLimit": 2048000,
      "rowLimit": 10000
     },
     "inputWidgets": {},
     "nuid": "4d2f1af3-f019-49f1-9dad-d4a18fb76b9d",
     "showTitle": false,
     "tableResultSettingsMap": {},
     "title": ""
    }
   },
   "source": [
    "\n",
    "### Let's review the tables we created under our schema\n",
    "\n",
    "\n",
    "Unity Catalog provides a comprehensive Data Explorer that you can access on the left menu.\n",
    "\n",
    "You'll find all your tables, and can use it to access and administrate your tables.\n",
    "\n",
    "They'll be able to create extra table into this schema.\n",
    "\n",
    "#### Discoverability \n",
    "\n",
    "In addition, Unity catalog also provides explorability and discoverability. \n",
    "\n",
    "Anyone having access to the tables will be able to search it and analyze its main usage. <br>\n",
    "You can use the Search menu (⌘ + P) to navigate in your data assets (tables, notebooks, queries...)\n",
    "\n",
    "<img src=\"https://raw.githubusercontent.com/QuentinAmbard/databricks-demo/main/retail/resources/images/lakehouse-retail/lakehouse-retail-churn-data-explorer.gif\" style=\"float: right\" width=\"800px\"/> \n"
   ]
  },
  {
   "cell_type": "code",
   "execution_count": 0,
   "metadata": {
    "application/vnd.databricks.v1+cell": {
     "cellMetadata": {
      "byteLimit": 2048000,
      "implicitDf": true,
      "rowLimit": 10000
     },
     "collapsed": true,
     "inputWidgets": {},
     "nuid": "02733567-a79c-4c9a-8aaf-0b6c7dab44fd",
     "showTitle": false,
     "tableResultSettingsMap": {},
     "title": ""
    }
   },
   "outputs": [],
   "source": [
    "display(spark.sql(\"SHOW TABLES\"))"
   ]
  },
  {
   "cell_type": "markdown",
   "metadata": {
    "application/vnd.databricks.v1+cell": {
     "cellMetadata": {
      "byteLimit": 2048000,
      "rowLimit": 10000
     },
     "inputWidgets": {},
     "nuid": "83125a5c-4514-4890-8204-3ee1bf75686e",
     "showTitle": false,
     "tableResultSettingsMap": {},
     "title": ""
    }
   },
   "source": [
    "#### 🛡️ Data Classification, PII Scanning and Anomaly Detection\n",
    "Unity Catalog support Automatic and wide ranging PII scanning, using a combination of GenAI and ML models to identify and classify both sensitive data, as well as anomalies in Data.\n",
    "\n",
    "##### Data Classification Dashboard\n",
    "\n",
    "![](https://docs.databricks.com/aws/en/assets/images/data-classification-dashboard-overview-be8575d1deec9cba00a5663139cbd016.png)\n",
    "\n",
    "\n"
   ]
  },
  {
   "cell_type": "code",
   "execution_count": 0,
   "metadata": {
    "application/vnd.databricks.v1+cell": {
     "cellMetadata": {
      "byteLimit": 2048000,
      "rowLimit": 10000
     },
     "inputWidgets": {},
     "nuid": "3fc42798-a1d8-437e-b656-e75de6c927f4",
     "showTitle": false,
     "tableResultSettingsMap": {},
     "title": ""
    },
    "jupyter": {
     "source_hidden": true
    }
   },
   "outputs": [],
   "source": [
    "host_url = dbutils.notebook.entry_point.getDbutils().notebook().getContext().apiUrl().get()\n",
    "#https://e2-demo-field-eng.cloud.databricks.com/explore/data/jack_demos?o=1444828305810485&activeTab=details\n",
    "displayHTML(f\"<b style='font-size:24px;'>Classification Settings URL:</b> <a href='{host_url}/explore/data/{catalog_name}?activeTab=details' target='_blank' style='font-size:24px;'>'{host_url}/explore/data/{catalog_name}?activeTab=details'</a>\")\n"
   ]
  },
  {
   "cell_type": "markdown",
   "metadata": {
    "application/vnd.databricks.v1+cell": {
     "cellMetadata": {
      "byteLimit": 2048000,
      "rowLimit": 10000
     },
     "inputWidgets": {},
     "nuid": "b9cb1fa2-156a-4a68-8261-e80005cdded1",
     "showTitle": false,
     "tableResultSettingsMap": {},
     "title": ""
    }
   },
   "source": [
    "\n",
    "#### 🛡️ PII Masking, Row-Level Security & Column-Level Filtering with Unity Catalog\n",
    "\n",
    "The `gold_iron_ore_prediction_dataset` table contains personally identifiable information (PII), such as operator names. In the cells below, we’ll demonstrate how to protect sensitive data using column- and row-level masking techniques."
   ]
  },
  {
   "cell_type": "code",
   "execution_count": 0,
   "metadata": {
    "application/vnd.databricks.v1+cell": {
     "cellMetadata": {
      "byteLimit": 2048000,
      "rowLimit": 10000
     },
     "inputWidgets": {},
     "nuid": "93dcab90-fdf7-40f7-9b67-895725ccabf4",
     "showTitle": false,
     "tableResultSettingsMap": {},
     "title": ""
    }
   },
   "outputs": [],
   "source": [
    "display(spark.sql(\"SELECT * FROM gold_iron_ore_prediction_dataset\"))"
   ]
  },
  {
   "cell_type": "code",
   "execution_count": 0,
   "metadata": {
    "application/vnd.databricks.v1+cell": {
     "cellMetadata": {
      "byteLimit": 2048000,
      "implicitDf": true,
      "rowLimit": 10000
     },
     "collapsed": true,
     "inputWidgets": {},
     "nuid": "efdaa664-1077-44a4-9367-50fe7214b86d",
     "showTitle": false,
     "tableResultSettingsMap": {},
     "title": ""
    }
   },
   "outputs": [],
   "source": [
    "spark.sql(f\"CREATE OR REPLACE TABLE gold_iop_features_version_demo AS SELECT * FROM gold_iron_ore_prediction_dataset\")\n",
    "spark.sql(f\"CREATE OR REPLACE TABLE gold_iop_features_protected AS SELECT * FROM gold_iron_ore_prediction_dataset\")"
   ]
  },
  {
   "cell_type": "code",
   "execution_count": 0,
   "metadata": {
    "application/vnd.databricks.v1+cell": {
     "cellMetadata": {
      "byteLimit": 2048000,
      "implicitDf": true,
      "rowLimit": 10000
     },
     "inputWidgets": {},
     "nuid": "c42eeea9-9077-4061-983e-fa86b8cf953b",
     "showTitle": false,
     "tableResultSettingsMap": {},
     "title": ""
    }
   },
   "outputs": [],
   "source": [
    "spark.sql(\"\"\"\n",
    "-- hls_admin group will have access to all data, all other users will see a masked information.\n",
    "CREATE OR REPLACE FUNCTION simple_mask(column_value STRING)\n",
    "   RETURN IF(is_account_group_member('really_important_group'), column_value, \"****\")\n",
    "   \"\"\")\n",
    "   \n",
    "spark.sql(\"\"\"\n",
    "-- Mask all PII information\n",
    "ALTER TABLE gold_iop_features_protected ALTER COLUMN operator_name SET MASK simple_mask\n",
    "\"\"\")\n",
    "\n",
    "spark.sql(\"\"\"\n",
    "ALTER TABLE gold_iop_features_version_demo ALTER COLUMN operator_name SET MASK simple_mask\n",
    "\"\"\")\n",
    "\n",
    "spark.sql(\"\"\"\n",
    "-- Apply row filter based on the country\n",
    "CREATE OR REPLACE FUNCTION date_filter(date_param TIMESTAMP) \n",
    "RETURN \n",
    "  date_param > \"2017-09-09T20:00:00.000+00:00\"                  -- Filter rows for records with a certain date\n",
    "\"\"\")\n",
    "\n",
    "spark.sql(\"\"\"\n",
    "ALTER TABLE gold_iop_features_protected SET ROW FILTER date_filter ON (date)\n",
    "\"\"\")\n",
    "\n",
    "display(spark.sql(\"\"\"\n",
    "SELECT * FROM gold_iop_features_protected\n",
    "\"\"\"))"
   ]
  },
  {
   "cell_type": "markdown",
   "metadata": {
    "application/vnd.databricks.v1+cell": {
     "cellMetadata": {
      "byteLimit": 2048000,
      "rowLimit": 10000
     },
     "inputWidgets": {},
     "nuid": "a18dfeed-836f-4a43-92b0-2567080043d4",
     "showTitle": false,
     "tableResultSettingsMap": {},
     "title": ""
    }
   },
   "source": [
    "#### 🕵️ Auditing Your Features with Time Travel\n",
    "With our feature table now secured, we can take advantage of powerful capabilities provided by Delta Tables and Unity Catalog, such as table versioning and time travel.\n",
    "\n",
    "In this step, we’ll create a new table to demonstrate how you can:\n",
    "- 🔍 Audit and review changes to a feature set over time\n",
    "- ♻️ Restore a table to a previous version if needed — a critical feature for debugging, governance, and compliance\n",
    "\n",
    "These capabilities make it easy to track feature evolution, support reproducibility, and maintain trust in your machine learning pipelines."
   ]
  },
  {
   "cell_type": "code",
   "execution_count": 0,
   "metadata": {
    "application/vnd.databricks.v1+cell": {
     "cellMetadata": {
      "byteLimit": 2048000,
      "implicitDf": true,
      "rowLimit": 10000
     },
     "inputWidgets": {},
     "nuid": "0c8db499-4e1c-446b-9d13-19958582eda1",
     "showTitle": false,
     "tableResultSettingsMap": {},
     "title": ""
    }
   },
   "outputs": [],
   "source": [
    "spark.sql(\"\"\"\n",
    "          CREATE OR REPLACE TABLE gold_iop_features_version_demo AS SELECT * FROM gold_iron_ore_prediction_dataset\n",
    "          \"\"\")"
   ]
  },
  {
   "cell_type": "markdown",
   "metadata": {
    "application/vnd.databricks.v1+cell": {
     "cellMetadata": {
      "byteLimit": 2048000,
      "rowLimit": 10000
     },
     "inputWidgets": {},
     "nuid": "1d000ed8-5c9a-4ab2-9fd8-d8416c8fe576",
     "showTitle": false,
     "tableResultSettingsMap": {},
     "title": ""
    }
   },
   "source": [
    "##### Now lets delete some data by \"accident\"\n",
    "\n",
    "Dont worry, we can recover it with the power of Time Travel and Table versions!"
   ]
  },
  {
   "cell_type": "code",
   "execution_count": 0,
   "metadata": {
    "application/vnd.databricks.v1+cell": {
     "cellMetadata": {
      "byteLimit": 2048000,
      "implicitDf": true,
      "rowLimit": 10000
     },
     "inputWidgets": {},
     "nuid": "c9352a3b-67bd-4ef7-882b-45ea5a22b0ea",
     "showTitle": false,
     "tableResultSettingsMap": {},
     "title": ""
    }
   },
   "outputs": [],
   "source": [
    "spark.sql(\"\"\"\n",
    "    --Uh oh... I've deleted everything from my table!\n",
    "    DELETE FROM gold_iop_features_version_demo\n",
    "\"\"\")\n",
    "\n",
    "spark.sql(\"\"\"\n",
    "    --Lets take a look at what happened to the table - Notice the delete operation\n",
    "    DESCRIBE HISTORY gold_iop_features_version_demo\n",
    "    \"\"\")"
   ]
  },
  {
   "cell_type": "markdown",
   "metadata": {
    "application/vnd.databricks.v1+cell": {
     "cellMetadata": {
      "byteLimit": 2048000,
      "rowLimit": 10000
     },
     "inputWidgets": {},
     "nuid": "d6998057-289f-4974-bd77-36b80926c066",
     "showTitle": false,
     "tableResultSettingsMap": {},
     "title": ""
    }
   },
   "source": [
    "##### Restore to a Previous Version of the Table\n",
    "\n",
    "Luckily we can undo my mistake by restoring the table to its version before the delete Operation. \n",
    "\n",
    "We can also restore back to a point in time as well!\n",
    "\n",
    "`RESTORE TABLE gold_iop_features_version_demo TO TIMESTAMP AS OF '2025-05-01T06:00:00';`"
   ]
  },
  {
   "cell_type": "code",
   "execution_count": 0,
   "metadata": {
    "application/vnd.databricks.v1+cell": {
     "cellMetadata": {
      "byteLimit": 2048000,
      "implicitDf": true,
      "rowLimit": 10000
     },
     "inputWidgets": {},
     "nuid": "104b0116-2511-4246-8438-b251181ceacd",
     "showTitle": false,
     "tableResultSettingsMap": {},
     "title": ""
    }
   },
   "outputs": [],
   "source": [
    "spark.sql(\"\"\"\n",
    "  --Restoring is as easy as going back to a previous version\n",
    "  RESTORE TABLE gold_iop_features_version_demo TO VERSION AS OF 0\n",
    "\"\"\")\n",
    "\n",
    "display(spark.sql(\"\"\"\n",
    "  --Huzzah! It is restored!\n",
    "  SELECT * FROM gold_iop_features_version_demo\n",
    "\"\"\"))"
   ]
  },
  {
   "cell_type": "markdown",
   "metadata": {
    "application/vnd.databricks.v1+cell": {
     "cellMetadata": {
      "byteLimit": 2048000,
      "rowLimit": 10000
     },
     "inputWidgets": {},
     "nuid": "6b6f2f4e-4fac-4357-b86a-3df8a6db3b76",
     "showTitle": false,
     "tableResultSettingsMap": {},
     "title": ""
    }
   },
   "source": [
    "#### Going further with Data Governance & Security\n",
    "\n",
    "By bringing all your data assets together, Unity Catalog let you build a complete and simple governance to help you scale your teams.\n",
    "\n",
    "Unity Catalog can be leveraged from simple GRANT to building a complete datamesh organization.\n",
    "\n",
    "<img src=\"https://github.com/QuentinAmbard/databricks-demo/raw/main/product_demos/uc/lineage/lineage-table.gif\" style=\"float: right; margin-left: 10px\"/>\n",
    "\n",
    "##### Fine-grained ACL: row/column level access\n",
    "\n",
    "Need more advanced control? You can chose to dynamically change your table output based on the user permissions: `dbdemos.intall('uc-01-acl')`\n",
    "\n",
    "##### Secure external location (S3/ADLS/GCS)\n",
    "\n",
    "Unity Catatalog let you secure your managed table but also your external locations:  `dbdemos.intall('uc-02-external-location')`\n",
    "\n",
    "##### Lineage \n",
    "\n",
    "UC automatically captures table dependencies and let you track how your data is used, including at a row level: `dbdemos.intall('uc-03-data-lineage')`\n",
    "\n",
    "This leat you analyze downstream impact, or monitor sensitive information across the entire organization (GDPR).\n",
    "\n",
    "\n",
    "##### Audit log\n",
    "\n",
    "UC captures all events. Need to know who is accessing which data? Query your audit log:  `dbdemos.intall('uc-04-audit-log')`\n",
    "\n",
    "This leat you analyze downstream impact, or monitor sensitive information across the entire organization (GDPR).\n",
    "\n",
    "\n",
    "##### Sharing data with external organization\n",
    "\n",
    "Sharing your data outside of your Databricks users is simple with Delta Sharing, and doesn't require your data consumers to use Databricks:  `dbdemos.intall('delta-sharing-airlines')`"
   ]
  }
 ],
 "metadata": {
  "application/vnd.databricks.v1+notebook": {
   "computePreferences": null,
   "dashboards": [],
   "environmentMetadata": {
    "base_environment": "",
    "environment_version": "2"
   },
   "inputWidgetPreferences": null,
   "language": "python",
   "notebookMetadata": {
    "mostRecentlyExecutedCommandWithImplicitDF": {
     "commandId": -1,
     "dataframes": [
      "_sqldf"
     ]
    },
    "pythonIndentUnit": 2
   },
   "notebookName": "01b. Unity Catalog, Governance and Auditability",
   "widgets": {}
  },
  "language_info": {
   "name": "python"
  }
 },
 "nbformat": 4,
 "nbformat_minor": 0
}
