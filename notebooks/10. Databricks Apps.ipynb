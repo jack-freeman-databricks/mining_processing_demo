{
 "cells": [
  {
   "cell_type": "markdown",
   "metadata": {
    "application/vnd.databricks.v1+cell": {
     "cellMetadata": {},
     "inputWidgets": {},
     "nuid": "d2f6959d-9da5-4abe-bc81-e355472b6382",
     "showTitle": false,
     "tableResultSettingsMap": {},
     "title": ""
    }
   },
   "source": [
    "## App URL\n",
    "https://mining-demo-app-1444828305810485.aws.databricksapps.com\n",
    "\n"
   ]
  },
  {
   "cell_type": "markdown",
   "metadata": {
    "application/vnd.databricks.v1+cell": {
     "cellMetadata": {},
     "inputWidgets": {},
     "nuid": "8b968105-3759-447d-8045-0d68ec0ff793",
     "showTitle": false,
     "tableResultSettingsMap": {},
     "title": ""
    }
   },
   "source": [
    "# 10. Databricks Apps\n",
    "### Custom Data and AI Applications\n",
    "\n",
    "<div style=\"text-align: center;\">\n",
    "  <img src=\"../demo_setup/images/databricks_app.png\" width=\"1000px\"/> \n",
    "</div>\n",
    "\n",
    "### Serverless Infrastructure - Built in Governance\n",
    "![](https://www.databricks.com/sites/default/files/inline-images/diagram.png?v=1728328931)\n",
    "\n",
    "\n"
   ]
  },
  {
   "cell_type": "markdown",
   "metadata": {
    "application/vnd.databricks.v1+cell": {
     "cellMetadata": {},
     "inputWidgets": {},
     "nuid": "c28d2fc5-b2d6-49bf-b5d4-228277bdc064",
     "showTitle": false,
     "tableResultSettingsMap": {},
     "title": ""
    }
   },
   "source": [
    "## 10.1 Templates for ease of development\n",
    "You can now deploy your own custom apps using popular frameworks! We provide templates to deploy any app using:\n",
    "- Streamlit\n",
    "- Shiny\n",
    "- Dash\n",
    "- Gradio\n",
    "\n",
    "![](https://www.databricks.com/sites/default/files/2024-10/smallersizetopImage.webp?v=1728322140)"
   ]
  },
  {
   "cell_type": "markdown",
   "metadata": {
    "application/vnd.databricks.v1+cell": {
     "cellMetadata": {},
     "inputWidgets": {},
     "nuid": "42a961d9-8930-49aa-a925-d9438a890ca9",
     "showTitle": false,
     "tableResultSettingsMap": {},
     "title": ""
    }
   },
   "source": [
    "## 10.2 Deploy Apps without needing to stand up infrastructure\n",
    "Deploy apps quickly without needing to spend time sorting out infrastructure/security/dns etc:\n",
    "- Fixed URL to make sharing the application simple!\n",
    "- Serverless compute means no need to worry about infrastructure\n",
    "- Unity Catalog governance means you can securely share resources from Databricks with the Application\n",
    "\n",
    "\n",
    "![](https://www.databricks.com/sites/default/files/inline-images/productionready.gif?v=1728328931)"
   ]
  },
  {
   "cell_type": "markdown",
   "metadata": {
    "application/vnd.databricks.v1+cell": {
     "cellMetadata": {},
     "inputWidgets": {},
     "nuid": "0d5b1c15-e357-4cdb-b5e4-7ea5a4a8f792",
     "showTitle": false,
     "tableResultSettingsMap": {},
     "title": ""
    }
   },
   "source": [
    "## 10.3 The freedom to experiment with many apps\n",
    "You can also deploy API's and even go further with other frameworks like React!\n",
    "\n",
    "Example use cases:\n",
    "- User Facing Data Entry forms\n",
    "- Custom Visualisations\n",
    "- AI Agent chat UI's\n",
    "- Custom ML Simulation applications\n",
    "\n",
    "The limit is only your imagination, deploy your changes in seconds and with the freedom of a python virtual environment!\n",
    "\n",
    "See a demo video here: https://www.youtube.com/watch?v=Equ7PBeM-Mw&t=4s"
   ]
  },
  {
   "cell_type": "markdown",
   "metadata": {
    "application/vnd.databricks.v1+cell": {
     "cellMetadata": {},
     "inputWidgets": {},
     "nuid": "e9a9e26d-9825-4594-9b5c-57c6cb83cb59",
     "showTitle": false,
     "tableResultSettingsMap": {},
     "title": ""
    }
   },
   "source": [
    "## 10.4 Would you like to know more?\n",
    "\n",
    "See our documentation here: [Databricks Apps](https://docs.databricks.com/aws/en/dev-tools/databricks-apps)"
   ]
  },
  {
   "cell_type": "code",
   "execution_count": 0,
   "metadata": {
    "application/vnd.databricks.v1+cell": {
     "cellMetadata": {},
     "inputWidgets": {},
     "nuid": "0eddcc24-feab-4962-b4cb-dd5303455e00",
     "showTitle": false,
     "tableResultSettingsMap": {},
     "title": ""
    }
   },
   "outputs": [],
   "source": []
  }
 ],
 "metadata": {
  "application/vnd.databricks.v1+notebook": {
   "computePreferences": null,
   "dashboards": [],
   "environmentMetadata": {
    "base_environment": "",
    "environment_version": "2"
   },
   "inputWidgetPreferences": null,
   "language": "python",
   "notebookMetadata": {
    "pythonIndentUnit": 2
   },
   "notebookName": "10. Databricks Apps",
   "widgets": {}
  },
  "language_info": {
   "name": "python"
  }
 },
 "nbformat": 4,
 "nbformat_minor": 0
}
