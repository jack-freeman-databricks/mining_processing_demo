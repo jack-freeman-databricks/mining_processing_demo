{
 "cells": [
  {
   "cell_type": "code",
   "execution_count": 0,
   "metadata": {
    "application/vnd.databricks.v1+cell": {
     "cellMetadata": {
      "byteLimit": 2048000,
      "rowLimit": 10000
     },
     "inputWidgets": {},
     "nuid": "4d41be9c-b86d-4cf6-9c24-a78d75bf39b8",
     "showTitle": false,
     "tableResultSettingsMap": {},
     "title": ""
    }
   },
   "outputs": [],
   "source": [
    "%run ../00.set_variables"
   ]
  },
  {
   "cell_type": "code",
   "execution_count": 0,
   "metadata": {
    "application/vnd.databricks.v1+cell": {
     "cellMetadata": {
      "byteLimit": 2048000,
      "rowLimit": 10000
     },
     "inputWidgets": {},
     "nuid": "64a632d0-13b8-4314-968a-e588ccd889d1",
     "showTitle": false,
     "tableResultSettingsMap": {},
     "title": ""
    }
   },
   "outputs": [],
   "source": [
    "from databricks.sdk import WorkspaceClient\n",
    "\n",
    "w = WorkspaceClient()\n",
    "body ={\n",
    "    \"included_schema_names\": []\n",
    "}\n",
    "\n",
    "#data classification\n",
    "try:\n",
    "\n",
    "  response = w.api_client.do('POST', f'/api/2.0/data-classification/catalogs/{catalog_name}/configs', body = body)\n",
    "  display(response)\n",
    "except Exception as e:\n",
    "  if \"already exists\" in str(e):\n",
    "    print(f\"Classification is already enabled for catalog {catalog_name}\")\n",
    "  else:\n",
    "    raise e\n",
    "\n",
    "monitoring_body = {\n",
    "  \"object_id\": \"string\",\n",
    "  \"object_type\": \"schema\"\n",
    "}\n",
    "\n",
    "schema_query = w.api_client.do('GET', f'/api/2.1/unity-catalog/schemas/{catalog_name}.{schema_name}')\n",
    "schema_id = schema_query['schema_id']\n",
    "\n",
    "monitoring_body[\"object_id\"] = schema_id\n",
    "\n",
    "try:\n",
    "  w.api_client.do('POST', f'/api/2.0/quality-monitors', body=monitoring_body)\n",
    "except Exception as e:\n",
    "  if \"Already exists\" in str(e):\n",
    "    print(\"Quality Monitoring is already enabled for schema\")\n",
    "  else:\n",
    "    raise e\n",
    "\n"
   ]
  }
 ],
 "metadata": {
  "application/vnd.databricks.v1+notebook": {
   "computePreferences": null,
   "dashboards": [],
   "environmentMetadata": {
    "base_environment": "dbe_c75093c8-0895-475e-8c1b-6acacfe3368b",
    "environment_version": "2"
   },
   "inputWidgetPreferences": null,
   "language": "python",
   "notebookMetadata": {
    "pythonIndentUnit": 2
   },
   "notebookName": "06.enable_data_classification_and_anomaly_detection",
   "widgets": {}
  },
  "language_info": {
   "name": "python"
  }
 },
 "nbformat": 4,
 "nbformat_minor": 0
}
