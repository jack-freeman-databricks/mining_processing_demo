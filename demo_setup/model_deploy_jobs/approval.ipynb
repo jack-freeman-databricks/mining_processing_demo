{
 "cells": [
  {
   "cell_type": "markdown",
   "metadata": {
    "application/vnd.databricks.v1+cell": {
     "cellMetadata": {},
     "inputWidgets": {},
     "nuid": "3009960e-70f5-4447-a58d-b5b5746c96ef",
     "showTitle": false,
     "tableResultSettingsMap": {},
     "title": ""
    }
   },
   "source": [
    "This notebook should only be run in a Databricks Job, as part of MLflow 3.0 Deployment Jobs."
   ]
  },
  {
   "cell_type": "code",
   "execution_count": 0,
   "metadata": {
    "application/vnd.databricks.v1+cell": {
     "cellMetadata": {},
     "inputWidgets": {},
     "nuid": "12d7c816-5362-4e17-a4b7-73e124d77d3a",
     "showTitle": false,
     "tableResultSettingsMap": {},
     "title": ""
    }
   },
   "outputs": [],
   "source": [
    "%pip install mlflow  --upgrade --pre\n",
    "dbutils.library.restartPython()"
   ]
  },
  {
   "cell_type": "code",
   "execution_count": 0,
   "metadata": {
    "application/vnd.databricks.v1+cell": {
     "cellMetadata": {},
     "inputWidgets": {},
     "nuid": "aa5fa67f-f9b8-41c3-9b10-dbccf633ae58",
     "showTitle": false,
     "tableResultSettingsMap": {},
     "title": ""
    }
   },
   "outputs": [],
   "source": [
    "dbutils.widgets.text(\"model_name\", \"\")\n",
    "dbutils.widgets.text(\"model_version\", \"\")\n",
    "dbutils.widgets.text(\"approval_tag_name\", \"\")"
   ]
  },
  {
   "cell_type": "code",
   "execution_count": 0,
   "metadata": {
    "application/vnd.databricks.v1+cell": {
     "cellMetadata": {},
     "inputWidgets": {},
     "nuid": "22bc24ec-bdcc-4bfd-bc28-1f9524a57be9",
     "showTitle": false,
     "tableResultSettingsMap": {},
     "title": ""
    }
   },
   "outputs": [],
   "source": [
    "from mlflow import MlflowClient\n",
    "\n",
    "client = MlflowClient(registry_uri=\"databricks-uc\")\n",
    "model_name = dbutils.widgets.get(\"model_name\")\n",
    "model_version = dbutils.widgets.get(\"model_version\")\n",
    "\n",
    "# by default, the approval tag name here is populated with the approval task name\n",
    "tag_name = dbutils.widgets.get(\"approval_tag_name\")\n",
    "\n",
    "# fetch the model version's UC tags\n",
    "tags = client.get_model_version(model_name, model_version).tags\n",
    "\n",
    "# check if any tag matches the approval tag name\n",
    "if not any(tag.lower() == tag_name.lower() for tag in tags.keys()):\n",
    "  raise Exception(\"Model version not approved for deployment\")\n",
    "else:\n",
    "  # if tag is found, check if it is approved\n",
    "  if tags.get(tag_name).lower() == \"approved\":\n",
    "    print(\"Model version approved for deployment\")\n",
    "  else:\n",
    "    raise Exception(\"Model version not approved for deployment\")"
   ]
  }
 ],
 "metadata": {
  "application/vnd.databricks.v1+notebook": {
   "computePreferences": null,
   "dashboards": [],
   "environmentMetadata": null,
   "inputWidgetPreferences": null,
   "language": "python",
   "notebookMetadata": {
    "pythonIndentUnit": 2
   },
   "notebookName": "approval",
   "widgets": {}
  },
  "language_info": {
   "name": "python"
  }
 },
 "nbformat": 4,
 "nbformat_minor": 0
}
