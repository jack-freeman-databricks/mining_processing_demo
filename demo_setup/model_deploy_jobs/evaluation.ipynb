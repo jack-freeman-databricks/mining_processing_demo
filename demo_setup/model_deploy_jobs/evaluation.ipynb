{
 "cells": [
  {
   "cell_type": "markdown",
   "metadata": {
    "application/vnd.databricks.v1+cell": {
     "cellMetadata": {},
     "inputWidgets": {},
     "nuid": "415af455-3b0b-48f0-b1cd-13a4743cf2f6",
     "showTitle": false,
     "tableResultSettingsMap": {},
     "title": ""
    }
   },
   "source": [
    "This notebook should only be run in a Databricks Job, as part of MLflow 3.0 Deployment Jobs."
   ]
  },
  {
   "cell_type": "code",
   "execution_count": 0,
   "metadata": {
    "application/vnd.databricks.v1+cell": {
     "cellMetadata": {},
     "inputWidgets": {},
     "nuid": "64128002-6afe-4fd4-ad07-3e54040584bb",
     "showTitle": false,
     "tableResultSettingsMap": {},
     "title": ""
    }
   },
   "outputs": [],
   "source": [
    "%pip install mlflow  --upgrade --pre\n",
    "dbutils.library.restartPython()"
   ]
  },
  {
   "cell_type": "code",
   "execution_count": 0,
   "metadata": {
    "application/vnd.databricks.v1+cell": {
     "cellMetadata": {},
     "inputWidgets": {},
     "nuid": "2a3c6acb-32a3-4167-a2d1-8018408768ab",
     "showTitle": false,
     "tableResultSettingsMap": {},
     "title": ""
    }
   },
   "outputs": [],
   "source": [
    "dbutils.widgets.text(\"model_name\", \"\")\n",
    "dbutils.widgets.text(\"model_version\", \"\")"
   ]
  },
  {
   "cell_type": "code",
   "execution_count": 0,
   "metadata": {
    "application/vnd.databricks.v1+cell": {
     "cellMetadata": {},
     "inputWidgets": {},
     "nuid": "e669aa61-f920-4f8f-80b8-e98b0e1c1d95",
     "showTitle": false,
     "tableResultSettingsMap": {},
     "title": ""
    }
   },
   "outputs": [],
   "source": [
    "import pandas as pd\n",
    "from sklearn.datasets import load_iris\n",
    "\n",
    "def sample_iris_data():\n",
    "  iris = load_iris()\n",
    "  iris_df = pd.DataFrame(data=iris.data, columns=iris.feature_names)\n",
    "  iris_df['quality'] = (iris.target == 2).astype(int)\n",
    "  return iris_df"
   ]
  },
  {
   "cell_type": "code",
   "execution_count": 0,
   "metadata": {
    "application/vnd.databricks.v1+cell": {
     "cellMetadata": {},
     "inputWidgets": {},
     "nuid": "8a8b1a26-43a1-456c-b540-5d32a34e330d",
     "showTitle": false,
     "tableResultSettingsMap": {},
     "title": ""
    }
   },
   "outputs": [],
   "source": [
    "import mlflow\n",
    "\n",
    "# TODO: add evaluation dataset and target here\n",
    "data = sample_iris_data()\n",
    "target = \"quality\"\n",
    "# TODO: add model type here (e.g. \"regressor\", \"databricks-agent\", etc.)\n",
    "model_type = \"regressor\"\n",
    "\n",
    "model_name = dbutils.widgets.get(\"model_name\")\n",
    "model_version = dbutils.widgets.get(\"model_version\")\n",
    "model_uri = \"models:/\" + model_name + \"/\" + model_version \n",
    "# can also fetch model ID and use that for URI instead as described below\n",
    "\n",
    "with mlflow.start_run(run_name=\"evaluation\") as run:\n",
    "  mlflow.evaluate(\n",
    "    model=model_uri,\n",
    "    data=data,\n",
    "    targets=target,\n",
    "    model_type=model_type\n",
    "  )"
   ]
  }
 ],
 "metadata": {
  "application/vnd.databricks.v1+notebook": {
   "computePreferences": null,
   "dashboards": [],
   "environmentMetadata": null,
   "inputWidgetPreferences": null,
   "language": "python",
   "notebookMetadata": {
    "pythonIndentUnit": 2
   },
   "notebookName": "evaluation",
   "widgets": {}
  },
  "language_info": {
   "name": "python"
  }
 },
 "nbformat": 4,
 "nbformat_minor": 0
}
