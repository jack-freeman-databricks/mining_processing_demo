{
 "cells": [
  {
   "cell_type": "code",
   "execution_count": 0,
   "metadata": {
    "application/vnd.databricks.v1+cell": {
     "cellMetadata": {
      "byteLimit": 2048000,
      "rowLimit": 10000
     },
     "inputWidgets": {},
     "nuid": "a519449b-15ed-4ec5-af8b-fb71eef83786",
     "showTitle": false,
     "tableResultSettingsMap": {},
     "title": ""
    }
   },
   "outputs": [],
   "source": [
    "%run ../00.set_variables"
   ]
  },
  {
   "cell_type": "code",
   "execution_count": 0,
   "metadata": {
    "application/vnd.databricks.v1+cell": {
     "cellMetadata": {
      "byteLimit": 2048000,
      "rowLimit": 10000
     },
     "inputWidgets": {},
     "nuid": "3db56c15-1bdc-409a-a190-bd628b1c1c03",
     "showTitle": false,
     "tableResultSettingsMap": {},
     "title": ""
    }
   },
   "outputs": [],
   "source": [
    "from pathlib import Path\n",
    "import shutil\n",
    "from databricks.sdk import WorkspaceClient\n",
    "\n",
    "w = WorkspaceClient()\n",
    "\n",
    "current_notebook_path = dbutils.entry_point.getDbutils().notebook().getContext().notebookPath().get()\n",
    "current_notebook_dir = Path(current_notebook_path).parent\n",
    "\n",
    "str_dir = str(current_notebook_dir)\n",
    "print(f\"cleaning out directory {str_dir}/genie_space\")\n",
    "#crude but whatevs\n",
    "try:\n",
    "   w.workspace.delete(path=f\"{str_dir}/genie_space\", recursive=True)\n",
    "   print(f\"Deleted directory\")\n",
    "except:\n",
    "   print(\"directory does not exist, recreating anyways\")\n",
    "\n",
    "w.workspace.mkdirs(path=f\"{str_dir}/genie_space\")\n",
    "print(f\"Created directory {str_dir}/genie_space\")"
   ]
  },
  {
   "cell_type": "code",
   "execution_count": 0,
   "metadata": {
    "application/vnd.databricks.v1+cell": {
     "cellMetadata": {
      "byteLimit": 2048000,
      "rowLimit": 10000
     },
     "inputWidgets": {},
     "nuid": "95b27cff-c491-4090-9b80-4cef5d856d9b",
     "showTitle": false,
     "tableResultSettingsMap": {},
     "title": ""
    }
   },
   "outputs": [],
   "source": [
    "# Import necessary modules from the Databricks SDK\n",
    "\n",
    "from databricks.sdk.service import sql\n",
    "\n",
    "\n",
    "print(\"Attempting to find the first available SQL warehouse ID...\")\n",
    "\n",
    "try:\n",
    "    # 1. List all SQL warehouses\n",
    "    # The list() method returns an iterator of sql.Warehouse objects.\n",
    "    # We convert it to a list to enable sorting.\n",
    "    all_warehouses = list(w.warehouses.list())\n",
    "\n",
    "    if not all_warehouses:\n",
    "        print(\"No SQL warehouses found in this workspace.\")\n",
    "        print(\"Please ensure you have at least one SQL warehouse created.\")\n",
    "    else:\n",
    "        # 2. Separate running and stopped warehouses\n",
    "        running_warehouses = []\n",
    "        stopped_warehouses = []\n",
    "        for wh in all_warehouses:\n",
    "            if wh.state == sql.State.RUNNING:\n",
    "                running_warehouses.append(wh)\n",
    "            else:\n",
    "                stopped_warehouses.append(wh)\n",
    "\n",
    "        # 3. Sort both lists alphabetically by name\n",
    "        running_warehouses.sort(key=lambda wh: wh.name.lower())\n",
    "        stopped_warehouses.sort(key=lambda wh: wh.name.lower())\n",
    "\n",
    "        first_available_warehouse = None\n",
    "\n",
    "        if running_warehouses:\n",
    "            # Prioritize running warehouses\n",
    "            first_available_warehouse = running_warehouses[0]\n",
    "            print(\"Found a running SQL warehouse.\")\n",
    "        elif stopped_warehouses:\n",
    "            # If no running, take the first stopped one\n",
    "            first_available_warehouse = stopped_warehouses[0]\n",
    "            print(\"No running SQL warehouses found. Selecting the first available (stopped) warehouse.\")\n",
    "        else:\n",
    "            # This case should ideally be caught by `if not all_warehouses:` but as a fallback\n",
    "            print(\"No running or stopped SQL warehouses found.\")\n",
    "\n",
    "        if first_available_warehouse:\n",
    "            warehouse_id = first_available_warehouse.id\n",
    "            warehouse_name = first_available_warehouse.name\n",
    "            warehouse_state = first_available_warehouse.state.value\n",
    "\n",
    "            print(\"\\n--- First Available SQL Warehouse Details ---\")\n",
    "            print(f\"ID: {warehouse_id}\")\n",
    "        else:\n",
    "            print(\"Could not determine an available SQL warehouse ID.\")\n",
    "\n",
    "except Exception as e:\n",
    "    print(f\"An error occurred: {e}\")\n",
    "    print(\"Please ensure your Databricks authentication is correctly configured and you have permissions to list SQL warehouses.\")\n"
   ]
  },
  {
   "cell_type": "code",
   "execution_count": 0,
   "metadata": {
    "application/vnd.databricks.v1+cell": {
     "cellMetadata": {
      "byteLimit": 2048000,
      "rowLimit": 10000
     },
     "inputWidgets": {},
     "nuid": "1438801d-16e5-44ed-9b41-2f1691ee6cae",
     "showTitle": false,
     "tableResultSettingsMap": {},
     "title": ""
    }
   },
   "outputs": [],
   "source": [
    "from databricks.sdk import WorkspaceClient\n",
    "import json\n",
    "from pathlib import Path\n",
    "\n",
    "current_notebook_path = dbutils.entry_point.getDbutils().notebook().getContext().notebookPath().get()\n",
    "\n",
    "# Use pathlib to handle path manipulation robustly\n",
    "current_notebook_dir = Path(current_notebook_path).parent\n",
    "full_dashboard_path = (current_notebook_dir / 'genie_space').resolve()\n",
    "\n",
    "#Genie rooms don't allow / anymore\n",
    "ws = WorkspaceClient()\n",
    "result = ws.api_client.do(method=\"GET\", path=\"/api/2.0/workspace/get-status\", body={\"path\": str(full_dashboard_path)})"
   ]
  },
  {
   "cell_type": "code",
   "execution_count": 0,
   "metadata": {
    "application/vnd.databricks.v1+cell": {
     "cellMetadata": {
      "byteLimit": 2048000,
      "rowLimit": 10000
     },
     "inputWidgets": {},
     "nuid": "453f0bd1-fac5-49fe-8e65-b37ab3548492",
     "showTitle": false,
     "tableResultSettingsMap": {},
     "title": ""
    }
   },
   "outputs": [],
   "source": [
    "\n",
    "folder_id = result['object_id']\n",
    "room_payload = {\n",
    "    \"display_name\": \"Fe Concentrator Genie Space\",\n",
    "    \"description\": \"deployed from api\",\n",
    "    \"warehouse_id\": f\"{first_available_warehouse.id}\",\n",
    "    \"table_identifiers\": [f\"{catalog_name}.{schema_name}.gold_iron_ore_predictions\"],\n",
    "    \"parent_folder\": f'folders/{folder_id}',\n",
    "    \"run_as_type\": \"VIEWER\"\n",
    "}\n",
    "\n",
    "response = ws.api_client.do(\n",
    "    method=\"POST\",\n",
    "    path=\"/api/2.0/data-rooms\",\n",
    "    body=room_payload\n",
    ")"
   ]
  },
  {
   "cell_type": "code",
   "execution_count": 0,
   "metadata": {
    "application/vnd.databricks.v1+cell": {
     "cellMetadata": {
      "byteLimit": 2048000,
      "rowLimit": 10000
     },
     "collapsed": true,
     "inputWidgets": {},
     "nuid": "4b16380e-1bd8-4e93-b320-6139f8989b9e",
     "showTitle": false,
     "tableResultSettingsMap": {},
     "title": ""
    }
   },
   "outputs": [],
   "source": [
    "genie_space_id = response['id']\n",
    "host_url = w.config.host\n",
    "genie_space_url = host_url + '/genie/rooms/' + genie_space_id\n",
    "\n",
    "content = {\n",
    "  \"genie_url\" : genie_space_url\n",
    "}\n",
    "\n",
    "with open(\"object_urls.json\", \"r\") as file:\n",
    "    data = json.load(file)\n",
    "\n",
    "data.update(content)\n",
    "\n",
    "with open(\"object_urls.json\", \"w\") as file:\n",
    "    json.dump(data, file)"
   ]
  }
 ],
 "metadata": {
  "application/vnd.databricks.v1+notebook": {
   "computePreferences": null,
   "dashboards": [],
   "environmentMetadata": {
    "base_environment": "dbe_c75093c8-0895-475e-8c1b-6acacfe3368b",
    "environment_version": "2"
   },
   "inputWidgetPreferences": null,
   "language": "python",
   "notebookMetadata": {
    "pythonIndentUnit": 2
   },
   "notebookName": "03.create_genie_space",
   "widgets": {}
  },
  "language_info": {
   "name": "python"
  }
 },
 "nbformat": 4,
 "nbformat_minor": 0
}
