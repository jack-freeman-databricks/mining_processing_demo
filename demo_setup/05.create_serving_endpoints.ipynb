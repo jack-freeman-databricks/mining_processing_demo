{
 "cells": [
  {
   "cell_type": "code",
   "execution_count": 0,
   "metadata": {
    "application/vnd.databricks.v1+cell": {
     "cellMetadata": {
      "byteLimit": 2048000,
      "rowLimit": 10000
     },
     "inputWidgets": {},
     "nuid": "bf1913bd-b413-4044-b1e1-4ad47dee9a69",
     "showTitle": false,
     "tableResultSettingsMap": {},
     "title": ""
    }
   },
   "outputs": [],
   "source": [
    "%run ../00.set_variables"
   ]
  },
  {
   "cell_type": "code",
   "execution_count": 0,
   "metadata": {
    "application/vnd.databricks.v1+cell": {
     "cellMetadata": {
      "byteLimit": 2048000,
      "rowLimit": 10000
     },
     "inputWidgets": {},
     "nuid": "09f5b9e6-8ccc-4c21-b777-08e8967377f5",
     "showTitle": false,
     "tableResultSettingsMap": {},
     "title": ""
    }
   },
   "outputs": [],
   "source": [
    "#deploy the first two endpoints manually rather than awaiting approval via deployment job\n",
    "from databricks.sdk import WorkspaceClient\n",
    "from databricks.sdk.service.serving import ServedEntityInput, EndpointCoreConfigInput, AutoCaptureConfigInput\n",
    "from databricks.sdk.errors import NotFound\n",
    "import time\n",
    "\n",
    "# --- Configuration ---\n",
    "# The name of your Unity Catalog.\n",
    "CATALOG_NAME = catalog_name \n",
    "\n",
    "# The name of the schema (database) where your models are registered.\n",
    "SCHEMA_NAME = schema_name   \n",
    "\n",
    "MODELS_TO_DEPLOY = [\n",
    "    \"fe_model\", \n",
    "    \"si_model\"   \n",
    "]\n",
    "\n",
    "w = WorkspaceClient()\n",
    "\n",
    "def serve_model(model_name, model_version):\n",
    "    model_FQDN = f\"{catalog_name}.{schema_name}.{model_name}\"\n",
    "    serving_endpoint_name = f\"{schema_name}-{model_name}-serving-endpoint\"\n",
    "    w = WorkspaceClient()\n",
    "    endpoint_config = EndpointCoreConfigInput(\n",
    "        name=serving_endpoint_name,\n",
    "        served_entities=[\n",
    "            ServedEntityInput(\n",
    "                entity_name=model_FQDN,\n",
    "                entity_version=model_version,\n",
    "                scale_to_zero_enabled=True,\n",
    "                workload_size=\"Small\"\n",
    "            )\n",
    "        ],\n",
    "        auto_capture_config = AutoCaptureConfigInput(catalog_name=catalog_name, schema_name=schema_name, enabled=True, table_name_prefix=f\"{model_name}_payload_inference_table\" )\n",
    "    )\n",
    "\n",
    "    force_update = True #Set this to True to release a newer version (the demo won't update the endpoint to a newer model version by default)\n",
    "    existing_endpoint = next((e for e in w.serving_endpoints.list() if e.name == serving_endpoint_name), None)\n",
    "    if existing_endpoint == None:\n",
    "        print(f\"Creating the endpoint {serving_endpoint_name}, this will take a few minutes to package and deploy the endpoint...\")\n",
    "        w.serving_endpoints.create_and_wait(name=serving_endpoint_name, config=endpoint_config)\n",
    "    else:\n",
    "        print(f\"endpoint {serving_endpoint_name} already exist...\")\n",
    "        if force_update:\n",
    "            w.serving_endpoints.update_config_and_wait(served_entities=endpoint_config.served_entities, name=serving_endpoint_name)\n",
    "\n",
    "#deploy v1 models\n",
    "from concurrent.futures import ThreadPoolExecutor\n",
    "\n",
    "with ThreadPoolExecutor() as executor:\n",
    "    futures = [executor.submit(serve_model, model, 1) for model in MODELS_TO_DEPLOY]\n",
    "    for future in futures:\n",
    "        future.result()\n"
   ]
  }
 ],
 "metadata": {
  "application/vnd.databricks.v1+notebook": {
   "computePreferences": null,
   "dashboards": [],
   "environmentMetadata": {
    "base_environment": "dbe_c75093c8-0895-475e-8c1b-6acacfe3368b",
    "environment_version": "2"
   },
   "inputWidgetPreferences": null,
   "language": "python",
   "notebookMetadata": {
    "pythonIndentUnit": 2
   },
   "notebookName": "05.create_serving_endpoints",
   "widgets": {}
  },
  "language_info": {
   "name": "python"
  }
 },
 "nbformat": 4,
 "nbformat_minor": 0
}
