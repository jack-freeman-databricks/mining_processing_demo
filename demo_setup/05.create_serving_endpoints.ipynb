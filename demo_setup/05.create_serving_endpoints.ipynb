{
 "cells": [
  {
   "cell_type": "code",
   "execution_count": 0,
   "metadata": {
    "application/vnd.databricks.v1+cell": {
     "cellMetadata": {
      "byteLimit": 2048000,
      "rowLimit": 10000
     },
     "inputWidgets": {},
     "nuid": "bf1913bd-b413-4044-b1e1-4ad47dee9a69",
     "showTitle": false,
     "tableResultSettingsMap": {},
     "title": ""
    }
   },
   "outputs": [],
   "source": [
    "%run ../00.set_variables"
   ]
  },
  {
   "cell_type": "code",
   "execution_count": 0,
   "metadata": {
    "application/vnd.databricks.v1+cell": {
     "cellMetadata": {
      "byteLimit": 2048000,
      "rowLimit": 10000
     },
     "inputWidgets": {},
     "nuid": "09f5b9e6-8ccc-4c21-b777-08e8967377f5",
     "showTitle": false,
     "tableResultSettingsMap": {},
     "title": ""
    }
   },
   "outputs": [],
   "source": [
    "# deploy the first two endpoints manually rather than awaiting approval via deployment job\n",
    "from databricks.sdk import WorkspaceClient\n",
    "from databricks.sdk.service.serving import EndpointCoreConfigInput, ServedModelInput, ServedEntityInput, AutoCaptureConfigInput\n",
    "from databricks.sdk.errors import NotFound, ResourceDoesNotExist\n",
    "from concurrent.futures import ThreadPoolExecutor\n",
    "import time\n",
    "\n",
    "#i'm lazy\n",
    "CATALOG_NAME = catalog_name \n",
    "SCHEMA_NAME = schema_name   \n",
    "\n",
    "MODELS_TO_DEPLOY = [\n",
    "    \"fe_model\", \n",
    "    \"si_model\"   \n",
    "]\n",
    "\n",
    "w = WorkspaceClient()\n",
    "\n",
    "def create_or_update_uc_endpoint(w: WorkspaceClient,\n",
    "                                 uc_catalog: str,\n",
    "                                 uc_schema: str,\n",
    "                                 uc_model_name: str,\n",
    "                                 model_version: str\n",
    "                                 ):\n",
    "    \n",
    "    full_model_name = f\"{uc_catalog}.{uc_schema}.{uc_model_name}\"\n",
    "    serving_endpoint_name = f\"{schema_name}-{uc_model_name}-serving-endpoint\"\n",
    "\n",
    "    served_entities=[\n",
    "    ServedEntityInput(\n",
    "        entity_name=full_model_name,\n",
    "        entity_version=model_version,\n",
    "        workload_size=\"Small\",\n",
    "        scale_to_zero_enabled=True,\n",
    "\n",
    "    )\n",
    "    ]\n",
    "\n",
    "    # Update serving endpoint if it already exists, otherwise create the serving endpoint\n",
    "    try:\n",
    "        w.serving_endpoints.update_config_and_wait(name=serving_endpoint_name, served_entities=served_entities)\n",
    "    except ResourceDoesNotExist:\n",
    "        w.serving_endpoints.create_and_wait(name=serving_endpoint_name, config=EndpointCoreConfigInput(served_entities=served_entities))\n",
    "\n",
    "# deploy v1 models\n",
    "with ThreadPoolExecutor() as executor:\n",
    "    # We use the model name as the endpoint name for simplicity\n",
    "    futures = [executor.submit(create_or_update_uc_endpoint, w, CATALOG_NAME, SCHEMA_NAME, model, '1') for model in MODELS_TO_DEPLOY]\n",
    "    for future in futures:\n",
    "        future.result()\n"
   ]
  },
  {
   "cell_type": "code",
   "execution_count": 0,
   "metadata": {
    "application/vnd.databricks.v1+cell": {
     "cellMetadata": {
      "byteLimit": 2048000,
      "rowLimit": 10000
     },
     "inputWidgets": {},
     "nuid": "414748f1-518d-4186-bd7e-28859d0ddc1b",
     "showTitle": false,
     "tableResultSettingsMap": {},
     "title": ""
    }
   },
   "outputs": [],
   "source": [
    "from databricks.sdk.service.iam import PermissionLevel, AccessControlRequest\n",
    "\n",
    "endpoints = [f\"{schema_name}-{model}-serving-endpoint\" for model in MODELS_TO_DEPLOY]\n",
    "\n",
    "for endpoint in endpoints:\n",
    "\n",
    "  endpoint_id = w.serving_endpoints.get(name=endpoint).id\n",
    "\n",
    "  # Define the permission rule and apply it to the endpoint.\n",
    "  # This grants all users in the workspace the ability to query the endpoint.\n",
    "  w.serving_endpoints.update_permissions(\n",
    "      serving_endpoint_id=endpoint_id,\n",
    "      access_control_list=[\n",
    "          AccessControlRequest(\n",
    "              group_name=\"users\",\n",
    "              permission_level=PermissionLevel.CAN_QUERY\n",
    "          )\n",
    "      ]\n",
    "  )\n",
    "\n",
    "  #enable ai gateway\n",
    "  base_url = \"/api/2.0/serving-endpoints\"\n",
    "  api_url = f\"{base_url}/{endpoint}/ai-gateway\"\n",
    "\n",
    "  gateway_request_data = {\n",
    "        \"usage_tracking_config\": {\"enabled\": True},\n",
    "        \"inference_table_config\": {\n",
    "            \"enabled\": True,\n",
    "            \"catalog_name\": catalog_name,\n",
    "            \"schema_name\": schema_name,\n",
    "        }\n",
    "    }\n",
    "  \n",
    "  w.api_client.do(\"PUT\", api_url, body=gateway_request_data)\n",
    "  \n",
    "\n"
   ]
  }
 ],
 "metadata": {
  "application/vnd.databricks.v1+notebook": {
   "computePreferences": null,
   "dashboards": [],
   "environmentMetadata": {
    "base_environment": "dbe_c75093c8-0895-475e-8c1b-6acacfe3368b",
    "environment_version": "2"
   },
   "inputWidgetPreferences": null,
   "language": "python",
   "notebookMetadata": {
    "pythonIndentUnit": 2
   },
   "notebookName": "05.create_serving_endpoints",
   "widgets": {}
  },
  "language_info": {
   "name": "python"
  }
 },
 "nbformat": 4,
 "nbformat_minor": 0
}
