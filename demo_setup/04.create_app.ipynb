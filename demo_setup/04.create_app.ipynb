{
 "cells": [
  {
   "cell_type": "code",
   "execution_count": 0,
   "metadata": {
    "application/vnd.databricks.v1+cell": {
     "cellMetadata": {
      "byteLimit": 2048000,
      "rowLimit": 10000
     },
     "collapsed": true,
     "inputWidgets": {},
     "nuid": "e5b2a2b1-a4ad-443f-b07e-5b74e831544d",
     "showTitle": false,
     "tableResultSettingsMap": {},
     "title": ""
    }
   },
   "outputs": [],
   "source": [
    "%pip install databricks-sdk>=0.57.0\n",
    "dbutils.library.restartPython()"
   ]
  },
  {
   "cell_type": "code",
   "execution_count": 0,
   "metadata": {
    "application/vnd.databricks.v1+cell": {
     "cellMetadata": {
      "byteLimit": 2048000,
      "rowLimit": 10000
     },
     "inputWidgets": {},
     "nuid": "6fcaa2af-f51a-4099-8646-d6082866fd8a",
     "showTitle": false,
     "tableResultSettingsMap": {},
     "title": ""
    }
   },
   "outputs": [],
   "source": [
    "%run ../00.set_variables"
   ]
  },
  {
   "cell_type": "code",
   "execution_count": 0,
   "metadata": {
    "application/vnd.databricks.v1+cell": {
     "cellMetadata": {
      "byteLimit": 2048000,
      "rowLimit": 10000
     },
     "collapsed": true,
     "inputWidgets": {},
     "nuid": "d2ea0adf-4e06-48bf-ac22-e11461dfbd24",
     "showTitle": false,
     "tableResultSettingsMap": {},
     "title": ""
    }
   },
   "outputs": [],
   "source": [
    "import yaml\n",
    "\n",
    "#create app.yaml\n",
    "data = {\n",
    "    \"command\": [\n",
    "        \"streamlit\",\n",
    "        \"run\",\n",
    "        \"app.py\"\n",
    "    ],\n",
    "    \"env\": [\n",
    "        {\n",
    "            \"name\": \"DATABRICKS_WAREHOUSE_ID\",\n",
    "            \"valueFrom\": \"sql-warehouse\"\n",
    "        },\n",
    "        {\n",
    "            \"name\": \"STREAMLIT_BROWSER_GATHER_USAGE_STATS\",\n",
    "            \"value\": \"false\"\n",
    "        },\n",
    "        {\n",
    "            \"name\": \"TABLE_NAME\",\n",
    "            \"value\": f\"{catalog_name}.{schema_name}.gold_iop_features_version_demo\"\n",
    "        },\n",
    "        {\n",
    "            \"name\": \"FE_ENDPOINT_NAME\",\n",
    "            \"value\": f\"{schema_name}-fe_model-serving-endpoint\"\n",
    "        },\n",
    "        {\n",
    "            \"name\": \"SI_ENDPOINT_NAME\",\n",
    "            \"value\": f\"{schema_name}-si_model-serving-endpoint\"\n",
    "        }\n",
    "    ]\n",
    "}\n",
    "\n",
    "with open(\"../src/app.yaml\", \"w\") as f:\n",
    "    yaml.dump(data, f, sort_keys=False)"
   ]
  },
  {
   "cell_type": "code",
   "execution_count": 0,
   "metadata": {
    "application/vnd.databricks.v1+cell": {
     "cellMetadata": {
      "byteLimit": 2048000,
      "rowLimit": 10000
     },
     "collapsed": true,
     "inputWidgets": {},
     "nuid": "127ae6eb-9c40-4b8c-976f-bd611e5e6341",
     "showTitle": false,
     "tableResultSettingsMap": {},
     "title": ""
    }
   },
   "outputs": [],
   "source": [
    "#get default warehouse\n",
    "# Import necessary modules from the Databricks SDK\n",
    "from databricks.sdk import WorkspaceClient\n",
    "from databricks.sdk.service import sql\n",
    "\n",
    "# --- Configuration and Initialization ---\n",
    "# Initialize the Databricks WorkspaceClient.\n",
    "# If running this code directly in a Databricks notebook,\n",
    "# the client will automatically pick up authentication from the notebook's context.\n",
    "# If running locally, ensure your Databricks authentication is configured (e.g., via\n",
    "# DATABRICKS_HOST and DATABRICKS_TOKEN environment variables, or ~/.databrickscfg).\n",
    "w = WorkspaceClient()\n",
    "\n",
    "print(\"Attempting to find the first available SQL warehouse ID...\")\n",
    "\n",
    "try:\n",
    "    # 1. List all SQL warehouses\n",
    "    # The list() method returns an iterator of sql.Warehouse objects.\n",
    "    # We convert it to a list to enable sorting.\n",
    "    all_warehouses = list(w.warehouses.list())\n",
    "\n",
    "    if not all_warehouses:\n",
    "        print(\"No SQL warehouses found in this workspace.\")\n",
    "        print(\"Please ensure you have at least one SQL warehouse created.\")\n",
    "    else:\n",
    "        # 2. Separate running and stopped warehouses\n",
    "        running_warehouses = []\n",
    "        stopped_warehouses = []\n",
    "        for wh in all_warehouses:\n",
    "            if wh.state == sql.State.RUNNING:\n",
    "                running_warehouses.append(wh)\n",
    "            else:\n",
    "                stopped_warehouses.append(wh)\n",
    "\n",
    "        # 3. Sort both lists alphabetically by name\n",
    "        running_warehouses.sort(key=lambda wh: wh.name.lower())\n",
    "        stopped_warehouses.sort(key=lambda wh: wh.name.lower())\n",
    "\n",
    "        first_available_warehouse = None\n",
    "\n",
    "        if running_warehouses:\n",
    "            # Prioritize running warehouses\n",
    "            first_available_warehouse = running_warehouses[0]\n",
    "            print(\"Found a running SQL warehouse.\")\n",
    "        elif stopped_warehouses:\n",
    "            # If no running, take the first stopped one\n",
    "            first_available_warehouse = stopped_warehouses[0]\n",
    "            print(\"No running SQL warehouses found. Selecting the first available (stopped) warehouse.\")\n",
    "        else:\n",
    "            # This case should ideally be caught by `if not all_warehouses:` but as a fallback\n",
    "            print(\"No running or stopped SQL warehouses found.\")\n",
    "\n",
    "        if first_available_warehouse:\n",
    "            warehouse_id = first_available_warehouse.id\n",
    "            warehouse_name = first_available_warehouse.name\n",
    "            warehouse_state = first_available_warehouse.state.value\n",
    "\n",
    "            print(\"\\n--- First Available SQL Warehouse Details ---\")\n",
    "            print(f\"ID: {warehouse_id}\")\n",
    "        else:\n",
    "            print(\"Could not determine an available SQL warehouse ID.\")\n",
    "\n",
    "except Exception as e:\n",
    "    print(f\"An error occurred: {e}\")\n",
    "    print(\"Please ensure your Databricks authentication is correctly configured and you have permissions to list SQL warehouses.\")"
   ]
  },
  {
   "cell_type": "code",
   "execution_count": 0,
   "metadata": {
    "application/vnd.databricks.v1+cell": {
     "cellMetadata": {
      "byteLimit": 2048000,
      "rowLimit": 10000
     },
     "inputWidgets": {},
     "nuid": "b4b4a2dc-2606-4e12-affb-bc7b9eb0ebb7",
     "showTitle": false,
     "tableResultSettingsMap": {},
     "title": ""
    }
   },
   "outputs": [],
   "source": [
    "#deploy app\n",
    "from databricks.sdk import WorkspaceClient\n",
    "from databricks.sdk.service import apps\n",
    "from databricks.sdk.service.apps import App, AppResource, AppDeployment, AppResourceSqlWarehouse, AppResourceSqlWarehouseSqlWarehousePermission\n",
    "from pathlib import Path\n",
    "\n",
    "w = WorkspaceClient()\n",
    "\n",
    "current_notebook_path = dbutils.entry_point.getDbutils().notebook().getContext().notebookPath().get()\n",
    "# Use pathlib to handle path manipulation robustly\n",
    "current_notebook_dir = Path(current_notebook_path).parent.parent\n",
    "full_app_notebook_path = (current_notebook_dir / 'src/').resolve()\n",
    "\n",
    "# Convert the Path object back to a string for the API\n",
    "directory_path = str(full_app_notebook_path)\n",
    "\n",
    "app_name = f\"fe-demo-{schema_name.lower().replace('_', '-')}\"\n",
    "\n",
    "warehouse = AppResourceSqlWarehouse(\n",
    "    id=warehouse_id,\n",
    "    permission=AppResourceSqlWarehouseSqlWarehousePermission.CAN_USE\n",
    ")\n",
    "\n",
    "warehouse_resource = AppResource(name=\"sql-warehouse\", sql_warehouse=warehouse)\n",
    "\n",
    "evaluation_app = App(name=app_name, \n",
    "              description=\"Demo Iron Ore Processing App\", \n",
    "              default_source_code_path=directory_path,\n",
    "              resources=[warehouse_resource],\n",
    "              user_api_scopes=['sql']\n",
    "              )\n",
    "\n",
    "app_details = w.apps.create_and_wait(app=evaluation_app)\n",
    "print(app_details)\n"
   ]
  },
  {
   "cell_type": "code",
   "execution_count": 0,
   "metadata": {
    "application/vnd.databricks.v1+cell": {
     "cellMetadata": {
      "byteLimit": 2048000,
      "rowLimit": 10000
     },
     "inputWidgets": {},
     "nuid": "d8ba9170-900d-43b1-89f2-1500821bc008",
     "showTitle": false,
     "tableResultSettingsMap": {},
     "title": ""
    }
   },
   "outputs": [],
   "source": [
    "\n",
    "deployment = AppDeployment(\n",
    "  source_code_path=f\"/Workspace{directory_path}\"\n",
    ")\n",
    "\n",
    "app_details = w.apps.deploy_and_wait(app_name=app_name, app_deployment=deployment)"
   ]
  },
  {
   "cell_type": "code",
   "execution_count": 0,
   "metadata": {
    "application/vnd.databricks.v1+cell": {
     "cellMetadata": {
      "byteLimit": 2048000,
      "rowLimit": 10000
     },
     "inputWidgets": {},
     "nuid": "3edaa7d6-a97d-4c82-ba54-2eb12ee1fd68",
     "showTitle": false,
     "tableResultSettingsMap": {},
     "title": ""
    }
   },
   "outputs": [],
   "source": [
    "import json\n",
    "#Let's access the application\n",
    "app_url = w.apps.get(name=app_name).url\n",
    "\n",
    "content = {\n",
    "  \"app_url\" : app_url\n",
    "}\n",
    "\n",
    "with open(\"object_urls.json\", \"r\") as file:\n",
    "    data = json.load(file)\n",
    "\n",
    "data.update(content)\n",
    "\n",
    "with open(\"object_urls.json\", \"w\") as file:\n",
    "    json.dump(data, file)"
   ]
  }
 ],
 "metadata": {
  "application/vnd.databricks.v1+notebook": {
   "computePreferences": null,
   "dashboards": [],
   "environmentMetadata": {
    "base_environment": "dbe_c75093c8-0895-475e-8c1b-6acacfe3368b",
    "environment_version": "2"
   },
   "inputWidgetPreferences": null,
   "language": "python",
   "notebookMetadata": {
    "pythonIndentUnit": 2
   },
   "notebookName": "04.create_app",
   "widgets": {}
  },
  "language_info": {
   "name": "python"
  }
 },
 "nbformat": 4,
 "nbformat_minor": 0
}
